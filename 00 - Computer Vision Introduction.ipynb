{
 "cells": [
  {
   "cell_type": "markdown",
   "metadata": {},
   "source": [
    "# _Hello, let me introduce my self..._ ##\n",
    "\n",
    "    Name                   : Reza Yogaswara\n",
    "    Specialization         : - Software Engineering\n",
    "                             - Mobile Apps Engineering (Native iOS & Android)\n",
    "                             - Computer Vision (* I'm not entirely sure why i write this)\n",
    "                             - Deep Learning (* I'm not entirely sure why i write this)\n",
    "    Educational Background : - Diploma of Informatics @ Politeknik Negeri Malang (2004)\n",
    "                             - Bachelor of Informatics & CS @ Universitas 17 Agustus 1945 Surabaya (2010)\n",
    "                             - Master of EE @ Institut Teknologi Sepuluh Nopember, Surabaya (2017)\n",
    "    Working Experices      : - iOS engineer and Android developer, i have never been a Data Scientist or Computer                                Vision engineer or AI engineer before :-|\n",
    "    My Works & more        : http://me.rezayogaswara.com\n",
    "                             "
   ]
  },
  {
   "cell_type": "markdown",
   "metadata": {},
   "source": [
    "# Artificial Intelligence, Machine Learning, Reinforcement Learning, Deep Learning ? _WTH?_\n",
    "\n",
    "<img src=\"./media/CV/DS Multi.jpg\" alt=\"DS is multidisciplinary\" style=\"width: 600px;\" title=\"DS is multidisciplinary\"/>\n",
    "____\n",
    "<img src=\"./media/CV/learning flow.png\" alt=\"Learning Flow\" style=\"width: 600px;\" title=\"Learning Flow\"/>\n",
    "____\n",
    "# <center>What should i do?</center>\n",
    "<img src=\"./media/CV/hypothesis-J.png\" alt=\"Learning Flow\" style=\"width: 600px;\" title=\"Learning Flow\"/>\n",
    "\n",
    "Recommended book : http://www.cs.huji.ac.il/~shais/UnderstandingMachineLearning/understanding-machine-learning-theory-algorithms.pdf"
   ]
  },
  {
   "cell_type": "markdown",
   "metadata": {},
   "source": [
    "# Computer Vision\n",
    "\n",
    "> \"Computer vision is an interdisciplinary field that deals with how computers can be made for gaining high-level understanding from digital images or videos. From the perspective of engineering, it seeks to automate tasks that the human visual system can do.\" ˆHuang, T. (1996-11-19). Vandoni, Carlo, E, ed. Computer Vision : Evolution And Promise\n",
    "\n",
    "> \"Computer vision is concerned with the **automatic extraction**, **analysis** and **understanding of useful information** from a single image or a sequence of images. It involves the development of a theoretical and algorithmic basis to achieve automatic visual understanding.\" ˆhttp://www.bmva.org/visionoverview The British Machine Vision Association and Society for Pattern Recognition Retrieved February 20, 2017\n",
    "\n",
    "<img src=\"./media/CV/cv0.jpg\" alt=\"Computer vision\" title=\"Computer vision\" />\n",
    "Source : https://medium.com/readers-writers-digest/beginners-guide-to-computer-vision-23606224b720"
   ]
  },
  {
   "cell_type": "markdown",
   "metadata": {},
   "source": [
    "### Computer vision is being used today in a wide variety of real-world applications, include: \n",
    "- Optical character recognition (OCR): reading handwritten postal codes on letters (Figure 1.4a) and automatic number plate recognition (ANPR);\n",
    "- Machine inspection: rapid parts inspection for quality assurance using stereo vision with specialized illumination to measure tolerances on aircraft wings or auto body parts (Figure 1.4b) or looking for defects in steel castings using X-ray vision;\n",
    "- Retail: object recognition for automated checkout lanes (Figure 1.4c);\n",
    "- 3D model building (photogrammetry): fully automated construction of 3D models from aerial photographs used in systems such as Bing Maps;\n",
    "- Medical imaging: registering pre-operative and intra-operative imagery (Figure 1.4d) or performing long-term studies of people’s brain morphology as they age;\n",
    "- Automotive safety: detecting unexpected obstacles such as pedestrians on the street, under conditions where active vision techniques such as radar or lidar do not work well (Figure 1.4e; see also Miller, Campbell, Huttenlocher et al. (2008); Montemerlo, Becker, Bhat et al. (2008); Urmson, Anhalt, Bagnell et al. (2008) for examples of fully automated driving);\n",
    "- Match move: merging computer-generated imagery (CGI) with live action footage by tracking feature points in the source video to estimate the 3D camera motion and shape of the environment. Such techniques are widely used in Hollywood (e.g., in movies such as Jurassic Park) (Roble 1999; Roble and Zafar 2009); they also require the use of precise matting to insert new elements between foreground and background elements (Chuang, Agarwala, Curless et al. 2002).\n",
    "\n",
    "<img src=\"./media/CV/cv1.jpg\" alt=\"Known application in computer vision\" title=\"Known application in computer vision\" />\n",
    "\n",
    "- Motion capture (mocap): using retro-reflective markers viewed from multiple cameras or other vision-based techniques to capture actors for computer animation;\n",
    "- Surveillance: monitoring for intruders, analyzing highway traffic (Figure 1.4f), and monitoring pools for drowning victims;\n",
    "- Fingerprint recognition and biometrics: for automatic access authentication as well as forensic applications.\n",
    "\n",
    "ˆ Szeliski R. (2010). Computer Vision: Algorithms and Applications. Springer"
   ]
  },
  {
   "cell_type": "markdown",
   "metadata": {},
   "source": [
    "### Type of Tasks in Computer Vision\n",
    "\n",
    "#### 1. Image Classification : Task of assigning an input image one label from a fixed set of categories\n",
    "\n",
    "> Paper : __[https://papers.nips.cc/paper/4824-imagenet-classification-with-deep-convolutional-neural-networks.pdf](https://papers.nips.cc/paper/4824-imagenet-classification-with-deep-convolutional-neural-networks.pdf)__\n",
    "\n",
    "<img src=\"./media/CV/cv2.png\" alt=\"Animal classification\" title=\"Animal classification\" style=\"width: 500px;\"/>\n",
    "\n",
    "**Classification in ImageNet :**\n",
    "$$e = \\frac 1 n \\sum_{k} min_{j} d(l_{j}, g_{k}) \\tag{1}$$\n",
    "\n",
    "**The image classification pipeline :**\n",
    "1. Input : Training set\n",
    "2. Learning : Classifier / model\n",
    "3. Evaluation : Intuitively, we’re hoping that a lot of the predictions of model match up with the true answers (which we call the ground truth).\n",
    "___\n",
    "\n",
    "#### 2. Object Localization\n",
    "\n",
    "<img src=\"./media/CV/cv3.png\" alt=\"Object Localization\" title=\"Object Localization\" style=\"width: 700px;\"/>\n",
    "\n",
    "**<center>Vehicle detection</center>**\n",
    "<img src=\"./media/CV/cv4.jpg\" alt=\"Object Localization\" title=\"Object Localization\" style=\"width: 500px;\"/>\n",
    "\n",
    "<img src=\"./media/CV/cv5.png\" alt=\"Object Localization\" title=\"Object Localization\" style=\"width: 800px;\"/>\n",
    "___\n",
    "\n",
    "#### 3. Object Detection\n",
    "\n",
    "> Paper : __[https://arxiv.org/abs/1512.03385](https://arxiv.org/abs/1512.03385)__\n",
    "\n",
    "> \"In object detection it is possible to detect more than 1 object\"\n",
    "\n",
    "<img src=\"./media/CV/cv6.png\" alt=\"Object Localization\" title=\"Object Localization\" style=\"width: 600px;\"/>"
   ]
  },
  {
   "cell_type": "code",
   "execution_count": 1,
   "metadata": {},
   "outputs": [
    {
     "name": "stderr",
     "output_type": "stream",
     "text": [
      "IOPub data rate exceeded.\n",
      "The notebook server will temporarily stop sending output\n",
      "to the client in order to avoid crashing it.\n",
      "To change this limit, set the config variable\n",
      "`--NotebookApp.iopub_data_rate_limit`.\n"
     ]
    }
   ],
   "source": [
    "import io\n",
    "import base64\n",
    "from IPython.display import HTML\n",
    "\n",
    "video = io.open('./media/CV/MOVIE1.MOV', 'r+b').read()\n",
    "encoded = base64.b64encode(video)\n",
    "HTML(data='''<center><video alt=\"test\" controls style=\"width: 300px;\">\n",
    "                <source src=\"data:video/mp4;base64,{0}\" type=\"video/mp4\" />\n",
    "             </video></center>'''.format(encoded.decode('ascii')))"
   ]
  },
  {
   "cell_type": "markdown",
   "metadata": {},
   "source": [
    "#### 4. Object Segmentation\n",
    "\n",
    "> Paper : __[https://arxiv.org/abs/1407.1808](https://arxiv.org/abs/1407.1808)__\n",
    "\n",
    "<img src=\"./media/CV/cv7.png\" alt=\"Object Segmentation\" title=\"Object Segmentation\" style=\"width: 600px;\"/>\n",
    "<img src=\"./media/CV/cv8.png\" alt=\"Object Segmentation\" title=\"Object Segmentation\" style=\"width: 600px;\"/>"
   ]
  },
  {
   "cell_type": "markdown",
   "metadata": {},
   "source": [
    "### Motivation\n",
    "<img src=\"./media/CV/conclusion.png\" alt=\"Motivation\" title=\"Motivation\" style=\"width: 600px;\"/>"
   ]
  },
  {
   "cell_type": "markdown",
   "metadata": {},
   "source": [
    "### More computer vision task ?\n",
    "\n",
    "* Object tracking\n",
    "* Image & language\n",
    "    * Image Captioning\n",
    "    * Video Captioning\n",
    "    * Question Answering\n",
    "* Image Generation\n",
    "* Visual Analogy\n",
    "* Action Detection\n",
    "* Artistic Style\n",
    "* Face Recognition\n",
    "* Facial Landmark Detection\n",
    "* Autonomous Self-Driving Car\n",
    "* etc"
   ]
  },
  {
   "cell_type": "markdown",
   "metadata": {},
   "source": [
    "\n",
    "<img src=\"./media/CV/cv9.jpg\" alt=\"Not hotdog app\" title=\"Not hotdog app\" style=\"width: 400px;\"/>"
   ]
  },
  {
   "cell_type": "markdown",
   "metadata": {},
   "source": [
    "### Wanna try challenge : ) ?\n",
    "\n",
    "<img src=\"./media/CV/cv10.jpg\" alt=\"Large Scale Visual Recognition Challenge (ILSVRC)\" title=\"Large Scale Visual Recognition Challenge (ILSVRC)\" style=\"width: 600px;\"/>\n"
   ]
  },
  {
   "cell_type": "markdown",
   "metadata": {},
   "source": [
    "> Reza Yogaswara\n",
    "<br />\n",
    "> http://me.rezayogaswara.com"
   ]
  }
 ],
 "metadata": {
  "kernelspec": {
   "display_name": "Python 3",
   "language": "python",
   "name": "python3"
  },
  "language_info": {
   "codemirror_mode": {
    "name": "ipython",
    "version": 3
   },
   "file_extension": ".py",
   "mimetype": "text/x-python",
   "name": "python",
   "nbconvert_exporter": "python",
   "pygments_lexer": "ipython3",
   "version": "3.6.2"
  }
 },
 "nbformat": 4,
 "nbformat_minor": 2
}
