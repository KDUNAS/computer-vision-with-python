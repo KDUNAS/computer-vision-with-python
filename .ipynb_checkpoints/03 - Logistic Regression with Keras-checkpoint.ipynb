{
 "cells": [
  {
   "cell_type": "code",
   "execution_count": 1,
   "metadata": {},
   "outputs": [
    {
     "name": "stderr",
     "output_type": "stream",
     "text": [
      "Using TensorFlow backend.\n"
     ]
    }
   ],
   "source": [
    "from keras.models import Sequential\n",
    "from keras.layers import Dense\n",
    "from keras.optimizers import SGD\n",
    "from keras.datasets import mnist\n",
    "from keras.utils import np_utils\n",
    "from keras.models import model_from_json"
   ]
  },
  {
   "cell_type": "code",
   "execution_count": 2,
   "metadata": {
    "collapsed": true
   },
   "outputs": [],
   "source": [
    "batch_size = 128\n",
    "nb_classes = 10\n",
    "nb_epoch = 100"
   ]
  },
  {
   "cell_type": "code",
   "execution_count": 3,
   "metadata": {},
   "outputs": [
    {
     "name": "stdout",
     "output_type": "stream",
     "text": [
      "Downloading data from https://s3.amazonaws.com/img-datasets/mnist.npz\n",
      "11493376/11490434 [==============================] - 23s 2us/step\n"
     ]
    }
   ],
   "source": [
    "# Load MNIST dataset\n",
    "(X_train, y_train), (X_test, y_test) = mnist.load_data()\n",
    "X_train = X_train.reshape(60000, 784)\n",
    "X_test = X_test.reshape(10000, 784)\n",
    "X_train = X_train.astype('float32')\n",
    "X_test = X_test.astype('float32')\n",
    "X_train /= 255\n",
    "X_test /= 255\n",
    "Y_Train = np_utils.to_categorical(y_train, nb_classes)\n",
    "Y_Test = np_utils.to_categorical(y_test, nb_classes)"
   ]
  },
  {
   "cell_type": "code",
   "execution_count": 4,
   "metadata": {},
   "outputs": [
    {
     "name": "stdout",
     "output_type": "stream",
     "text": [
      "_________________________________________________________________\n",
      "Layer (type)                 Output Shape              Param #   \n",
      "=================================================================\n",
      "dense_1 (Dense)              (None, 10)                7850      \n",
      "=================================================================\n",
      "Total params: 7,850\n",
      "Trainable params: 7,850\n",
      "Non-trainable params: 0\n",
      "_________________________________________________________________\n",
      "None\n",
      "[{'class_name': 'Dense', 'config': {'name': 'dense_1', 'trainable': True, 'batch_input_shape': (None, 784), 'dtype': 'float32', 'units': 10, 'activation': 'softmax', 'use_bias': True, 'kernel_initializer': {'class_name': 'RandomNormal', 'config': {'mean': 0.0, 'stddev': 0.05, 'seed': None}}, 'bias_initializer': {'class_name': 'Zeros', 'config': {}}, 'kernel_regularizer': None, 'bias_regularizer': None, 'activity_regularizer': None, 'kernel_constraint': None, 'bias_constraint': None}}]\n",
      "{\"class_name\": \"Sequential\", \"config\": [{\"class_name\": \"Dense\", \"config\": {\"name\": \"dense_1\", \"trainable\": true, \"batch_input_shape\": [null, 784], \"dtype\": \"float32\", \"units\": 10, \"activation\": \"softmax\", \"use_bias\": true, \"kernel_initializer\": {\"class_name\": \"RandomNormal\", \"config\": {\"mean\": 0.0, \"stddev\": 0.05, \"seed\": null}}, \"bias_initializer\": {\"class_name\": \"Zeros\", \"config\": {}}, \"kernel_regularizer\": null, \"bias_regularizer\": null, \"activity_regularizer\": null, \"kernel_constraint\": null, \"bias_constraint\": null}}], \"keras_version\": \"2.1.6\", \"backend\": \"tensorflow\"}\n"
     ]
    },
    {
     "name": "stderr",
     "output_type": "stream",
     "text": [
      "/anaconda3/lib/python3.6/site-packages/ipykernel_launcher.py:3: UserWarning: Update your `Dense` call to the Keras 2 API: `Dense(input_shape=(784,), activation=\"softmax\", units=10, kernel_initializer=\"normal\")`\n",
      "  This is separate from the ipykernel package so we can avoid doing imports until\n"
     ]
    }
   ],
   "source": [
    "# Logistic regression model\n",
    "model = Sequential()\n",
    "model.add(Dense(output_dim=10, input_shape=(784,), init='normal', activation='softmax'))\n",
    "model.compile(optimizer=SGD(lr=0.05), loss='categorical_crossentropy', metrics=['accuracy'])\n",
    "print(model.summary())\n",
    "print(model.get_config())\n",
    "print(model.to_json())"
   ]
  },
  {
   "cell_type": "code",
   "execution_count": 5,
   "metadata": {},
   "outputs": [
    {
     "name": "stderr",
     "output_type": "stream",
     "text": [
      "/anaconda3/lib/python3.6/site-packages/keras/models.py:981: UserWarning: The `nb_epoch` argument in `fit` has been renamed `epochs`.\n",
      "  warnings.warn('The `nb_epoch` argument in `fit` '\n"
     ]
    },
    {
     "name": "stdout",
     "output_type": "stream",
     "text": [
      "Epoch 1/100\n",
      "60000/60000 [==============================] - 2s 28us/step - loss: 0.7206 - acc: 0.8250\n",
      "Epoch 2/100\n",
      "60000/60000 [==============================] - 1s 25us/step - loss: 0.4317 - acc: 0.8860\n",
      "Epoch 3/100\n",
      "60000/60000 [==============================] - 1s 25us/step - loss: 0.3855 - acc: 0.8950\n",
      "Epoch 4/100\n",
      "60000/60000 [==============================] - 2s 26us/step - loss: 0.3621 - acc: 0.8998\n",
      "Epoch 5/100\n",
      "60000/60000 [==============================] - 2s 26us/step - loss: 0.3473 - acc: 0.9035\n",
      "Epoch 6/100\n",
      "60000/60000 [==============================] - 1s 22us/step - loss: 0.3367 - acc: 0.9061\n",
      "Epoch 7/100\n",
      "60000/60000 [==============================] - 1s 22us/step - loss: 0.3286 - acc: 0.9084\n",
      "Epoch 8/100\n",
      "60000/60000 [==============================] - 1s 22us/step - loss: 0.3222 - acc: 0.9100\n",
      "Epoch 9/100\n",
      "60000/60000 [==============================] - 1s 22us/step - loss: 0.3170 - acc: 0.9116\n",
      "Epoch 10/100\n",
      "60000/60000 [==============================] - 1s 22us/step - loss: 0.3125 - acc: 0.9131\n",
      "Epoch 11/100\n",
      "60000/60000 [==============================] - 1s 22us/step - loss: 0.3087 - acc: 0.9141\n",
      "Epoch 12/100\n",
      "60000/60000 [==============================] - 1s 23us/step - loss: 0.3054 - acc: 0.9157\n",
      "Epoch 13/100\n",
      "60000/60000 [==============================] - 1s 22us/step - loss: 0.3024 - acc: 0.9162\n",
      "Epoch 14/100\n",
      "60000/60000 [==============================] - 1s 22us/step - loss: 0.2998 - acc: 0.9165\n",
      "Epoch 15/100\n",
      "60000/60000 [==============================] - 2s 26us/step - loss: 0.2975 - acc: 0.9173\n",
      "Epoch 16/100\n",
      "60000/60000 [==============================] - 2s 26us/step - loss: 0.2953 - acc: 0.9176\n",
      "Epoch 17/100\n",
      "60000/60000 [==============================] - 1s 22us/step - loss: 0.2935 - acc: 0.9182\n",
      "Epoch 18/100\n",
      "60000/60000 [==============================] - 1s 22us/step - loss: 0.2916 - acc: 0.9187\n",
      "Epoch 19/100\n",
      "60000/60000 [==============================] - 2s 29us/step - loss: 0.2901 - acc: 0.9196\n",
      "Epoch 20/100\n",
      "60000/60000 [==============================] - 1s 23us/step - loss: 0.2887 - acc: 0.9196\n",
      "Epoch 21/100\n",
      "60000/60000 [==============================] - 1s 22us/step - loss: 0.2872 - acc: 0.9199\n",
      "Epoch 22/100\n",
      "60000/60000 [==============================] - 1s 23us/step - loss: 0.2859 - acc: 0.9205\n",
      "Epoch 23/100\n",
      "60000/60000 [==============================] - 1s 23us/step - loss: 0.2845 - acc: 0.9207\n",
      "Epoch 24/100\n",
      "60000/60000 [==============================] - 1s 22us/step - loss: 0.2835 - acc: 0.9213\n",
      "Epoch 25/100\n",
      "60000/60000 [==============================] - 1s 22us/step - loss: 0.2825 - acc: 0.9216\n",
      "Epoch 26/100\n",
      "60000/60000 [==============================] - 1s 24us/step - loss: 0.2814 - acc: 0.9218\n",
      "Epoch 27/100\n",
      "60000/60000 [==============================] - 2s 35us/step - loss: 0.2805 - acc: 0.9227\n",
      "Epoch 28/100\n",
      "60000/60000 [==============================] - 1s 25us/step - loss: 0.2795 - acc: 0.9225\n",
      "Epoch 29/100\n",
      "60000/60000 [==============================] - 1s 23us/step - loss: 0.2786 - acc: 0.9228\n",
      "Epoch 30/100\n",
      "60000/60000 [==============================] - 1s 22us/step - loss: 0.2777 - acc: 0.9228\n",
      "Epoch 31/100\n",
      "60000/60000 [==============================] - 1s 24us/step - loss: 0.2770 - acc: 0.9235\n",
      "Epoch 32/100\n",
      "60000/60000 [==============================] - 1s 22us/step - loss: 0.2763 - acc: 0.9233\n",
      "Epoch 33/100\n",
      "60000/60000 [==============================] - 1s 22us/step - loss: 0.2755 - acc: 0.9239\n",
      "Epoch 34/100\n",
      "60000/60000 [==============================] - 1s 23us/step - loss: 0.2750 - acc: 0.9237\n",
      "Epoch 35/100\n",
      "60000/60000 [==============================] - 1s 22us/step - loss: 0.2741 - acc: 0.9238\n",
      "Epoch 36/100\n",
      "60000/60000 [==============================] - 1s 22us/step - loss: 0.2736 - acc: 0.9243\n",
      "Epoch 37/100\n",
      "60000/60000 [==============================] - 1s 22us/step - loss: 0.2729 - acc: 0.9247\n",
      "Epoch 38/100\n",
      "60000/60000 [==============================] - 1s 22us/step - loss: 0.2724 - acc: 0.9245\n",
      "Epoch 39/100\n",
      "60000/60000 [==============================] - 1s 25us/step - loss: 0.2717 - acc: 0.9248\n",
      "Epoch 40/100\n",
      "60000/60000 [==============================] - 1s 24us/step - loss: 0.2712 - acc: 0.9249\n",
      "Epoch 41/100\n",
      "60000/60000 [==============================] - 2s 41us/step - loss: 0.2706 - acc: 0.9253\n",
      "Epoch 42/100\n",
      "60000/60000 [==============================] - 1s 23us/step - loss: 0.2701 - acc: 0.9253\n",
      "Epoch 43/100\n",
      "60000/60000 [==============================] - 1s 22us/step - loss: 0.2697 - acc: 0.9250\n",
      "Epoch 44/100\n",
      "60000/60000 [==============================] - 1s 23us/step - loss: 0.2691 - acc: 0.9254\n",
      "Epoch 45/100\n",
      "60000/60000 [==============================] - 1s 23us/step - loss: 0.2688 - acc: 0.9256\n",
      "Epoch 46/100\n",
      "60000/60000 [==============================] - 1s 23us/step - loss: 0.2682 - acc: 0.9263\n",
      "Epoch 47/100\n",
      "60000/60000 [==============================] - 1s 23us/step - loss: 0.2678 - acc: 0.9260\n",
      "Epoch 48/100\n",
      "60000/60000 [==============================] - 2s 26us/step - loss: 0.2673 - acc: 0.9262\n",
      "Epoch 49/100\n",
      "60000/60000 [==============================] - 1s 24us/step - loss: 0.2670 - acc: 0.9264\n",
      "Epoch 50/100\n",
      "60000/60000 [==============================] - 1s 24us/step - loss: 0.2665 - acc: 0.9264\n",
      "Epoch 51/100\n",
      "60000/60000 [==============================] - 1s 21us/step - loss: 0.2661 - acc: 0.9267\n",
      "Epoch 52/100\n",
      "60000/60000 [==============================] - 1s 21us/step - loss: 0.2657 - acc: 0.9268\n",
      "Epoch 53/100\n",
      "60000/60000 [==============================] - 1s 21us/step - loss: 0.2653 - acc: 0.9268\n",
      "Epoch 54/100\n",
      "60000/60000 [==============================] - 1s 21us/step - loss: 0.2649 - acc: 0.9265\n",
      "Epoch 55/100\n",
      "60000/60000 [==============================] - 1s 22us/step - loss: 0.2646 - acc: 0.9268\n",
      "Epoch 56/100\n",
      "60000/60000 [==============================] - 1s 21us/step - loss: 0.2643 - acc: 0.9270\n",
      "Epoch 57/100\n",
      "60000/60000 [==============================] - 1s 21us/step - loss: 0.2640 - acc: 0.9272\n",
      "Epoch 58/100\n",
      "60000/60000 [==============================] - 1s 22us/step - loss: 0.2637 - acc: 0.9273\n",
      "Epoch 59/100\n",
      "60000/60000 [==============================] - 1s 21us/step - loss: 0.2631 - acc: 0.9273\n",
      "Epoch 60/100\n",
      "60000/60000 [==============================] - 1s 22us/step - loss: 0.2630 - acc: 0.9276\n",
      "Epoch 61/100\n",
      "60000/60000 [==============================] - 1s 23us/step - loss: 0.2627 - acc: 0.9276\n",
      "Epoch 62/100\n",
      "60000/60000 [==============================] - 1s 21us/step - loss: 0.2624 - acc: 0.9277\n",
      "Epoch 63/100\n",
      "60000/60000 [==============================] - 1s 22us/step - loss: 0.2620 - acc: 0.9274\n",
      "Epoch 64/100\n",
      "60000/60000 [==============================] - 1s 21us/step - loss: 0.2617 - acc: 0.9279\n",
      "Epoch 65/100\n",
      "60000/60000 [==============================] - 1s 21us/step - loss: 0.2614 - acc: 0.9279\n",
      "Epoch 66/100\n",
      "60000/60000 [==============================] - 1s 21us/step - loss: 0.2611 - acc: 0.9283\n",
      "Epoch 67/100\n",
      "60000/60000 [==============================] - 1s 21us/step - loss: 0.2610 - acc: 0.9278\n",
      "Epoch 68/100\n",
      "60000/60000 [==============================] - 2s 26us/step - loss: 0.2606 - acc: 0.9278\n",
      "Epoch 69/100\n",
      "60000/60000 [==============================] - 1s 21us/step - loss: 0.2604 - acc: 0.9283\n",
      "Epoch 70/100\n",
      "60000/60000 [==============================] - 1s 23us/step - loss: 0.2601 - acc: 0.9285\n",
      "Epoch 71/100\n",
      "60000/60000 [==============================] - 1s 23us/step - loss: 0.2599 - acc: 0.9285\n",
      "Epoch 72/100\n",
      "60000/60000 [==============================] - 1s 23us/step - loss: 0.2597 - acc: 0.9285\n",
      "Epoch 73/100\n",
      "60000/60000 [==============================] - 706s 12ms/step - loss: 0.2593 - acc: 0.9284\n",
      "Epoch 74/100\n",
      "60000/60000 [==============================] - 3s 54us/step - loss: 0.2592 - acc: 0.9288\n",
      "Epoch 75/100\n",
      "60000/60000 [==============================] - 2s 36us/step - loss: 0.2589 - acc: 0.9287\n",
      "Epoch 76/100\n",
      "60000/60000 [==============================] - 2s 40us/step - loss: 0.2587 - acc: 0.9285\n",
      "Epoch 77/100\n",
      "60000/60000 [==============================] - 2s 42us/step - loss: 0.2584 - acc: 0.9290\n",
      "Epoch 78/100\n",
      "60000/60000 [==============================] - 3s 46us/step - loss: 0.2583 - acc: 0.9288\n",
      "Epoch 79/100\n",
      "60000/60000 [==============================] - 3s 45us/step - loss: 0.2580 - acc: 0.9290\n",
      "Epoch 80/100\n",
      "60000/60000 [==============================] - 2s 38us/step - loss: 0.2578 - acc: 0.9292\n",
      "Epoch 81/100\n",
      "60000/60000 [==============================] - 3s 43us/step - loss: 0.2576 - acc: 0.9289\n",
      "Epoch 82/100\n",
      "60000/60000 [==============================] - 2s 39us/step - loss: 0.2572 - acc: 0.9290\n",
      "Epoch 83/100\n",
      "60000/60000 [==============================] - 2s 33us/step - loss: 0.2572 - acc: 0.9291\n",
      "Epoch 84/100\n",
      "60000/60000 [==============================] - 2s 33us/step - loss: 0.2570 - acc: 0.9292\n",
      "Epoch 85/100\n",
      "60000/60000 [==============================] - 2s 30us/step - loss: 0.2566 - acc: 0.9292\n",
      "Epoch 86/100\n",
      "60000/60000 [==============================] - 2s 28us/step - loss: 0.2565 - acc: 0.9296\n",
      "Epoch 87/100\n",
      "60000/60000 [==============================] - 2s 30us/step - loss: 0.2564 - acc: 0.9297\n",
      "Epoch 88/100\n",
      "60000/60000 [==============================] - 2s 31us/step - loss: 0.2562 - acc: 0.9296\n",
      "Epoch 89/100\n",
      "60000/60000 [==============================] - 2s 27us/step - loss: 0.2560 - acc: 0.9298\n",
      "Epoch 90/100\n",
      "60000/60000 [==============================] - 2s 28us/step - loss: 0.2557 - acc: 0.9296\n",
      "Epoch 91/100\n",
      "60000/60000 [==============================] - 2s 32us/step - loss: 0.2557 - acc: 0.9299\n",
      "Epoch 92/100\n",
      "60000/60000 [==============================] - 2s 27us/step - loss: 0.2555 - acc: 0.9303\n",
      "Epoch 93/100\n",
      "60000/60000 [==============================] - 1s 25us/step - loss: 0.2553 - acc: 0.9302\n",
      "Epoch 94/100\n",
      "60000/60000 [==============================] - 2s 32us/step - loss: 0.2550 - acc: 0.9302\n",
      "Epoch 95/100\n",
      "60000/60000 [==============================] - 2s 27us/step - loss: 0.2549 - acc: 0.9302\n",
      "Epoch 96/100\n",
      "60000/60000 [==============================] - 2s 30us/step - loss: 0.2547 - acc: 0.9302\n",
      "Epoch 97/100\n",
      "60000/60000 [==============================] - 1s 24us/step - loss: 0.2546 - acc: 0.9301\n",
      "Epoch 98/100\n",
      "60000/60000 [==============================] - 1s 24us/step - loss: 0.2544 - acc: 0.9303\n",
      "Epoch 99/100\n",
      "60000/60000 [==============================] - 1s 25us/step - loss: 0.2542 - acc: 0.9301\n",
      "Epoch 100/100\n",
      "60000/60000 [==============================] - 1s 25us/step - loss: 0.2541 - acc: 0.9302\n"
     ]
    }
   ],
   "source": [
    "# Train\n",
    "history = model.fit(X_train, Y_Train, nb_epoch=nb_epoch, batch_size=batch_size, verbose=1)"
   ]
  },
  {
   "cell_type": "code",
   "execution_count": 57,
   "metadata": {},
   "outputs": [
    {
     "name": "stdout",
     "output_type": "stream",
     "text": [
      "10000/10000 [==============================] - 1s 81us/step\n",
      "Summary: Loss over the test dataset: 0.30, Accuracy: 0.92\n"
     ]
    }
   ],
   "source": [
    "# Evaluate\n",
    "evaluation = model.evaluate(X_test, Y_Test, verbose=1)\n",
    "print('Summary: Loss over the test dataset: %.2f, Accuracy: %.2f' % (evaluation[0], evaluation[1]))"
   ]
  },
  {
   "cell_type": "code",
   "execution_count": 58,
   "metadata": {},
   "outputs": [
    {
     "name": "stdout",
     "output_type": "stream",
     "text": [
      "[array([[-0.03137537,  0.07717585, -0.06438892, ..., -0.05086152,\n",
      "         0.03485918,  0.03686256],\n",
      "       [ 0.07848955,  0.03108223,  0.11259597, ..., -0.04369728,\n",
      "        -0.03050271, -0.01657319],\n",
      "       [-0.00806799, -0.06894209, -0.0146496 , ..., -0.02636686,\n",
      "         0.00990218,  0.06716543],\n",
      "       ...,\n",
      "       [-0.02034633,  0.00270557, -0.00319286, ...,  0.07128914,\n",
      "        -0.00056136, -0.06217438],\n",
      "       [-0.02167948, -0.08711863,  0.06127411, ...,  0.01001566,\n",
      "        -0.0694625 , -0.12092503],\n",
      "       [-0.10579642,  0.11031339,  0.03469577, ...,  0.01463425,\n",
      "         0.076971  ,  0.01809248]], dtype=float32), array([-0.23094663,  0.30510738,  0.02797174, -0.18215844,  0.04719717,\n",
      "        0.7912234 , -0.03587764,  0.4027512 , -0.96311617, -0.16214946],\n",
      "      dtype=float32)]\n",
      "Saved model to disk\n"
     ]
    }
   ],
   "source": [
    "# serialize model to JSON\n",
    "model_json = model.to_json()\n",
    "with open(\"02_logistic_regression.json\", \"w\") as json_file:\n",
    "    json_file.write(model_json)\n",
    "# serialize weights to HDF5\n",
    "model.save_weights(\"02_logistic_regression.h5\")\n",
    "print (model.get_weights())\n",
    "print(\"Saved model to disk\")"
   ]
  },
  {
   "cell_type": "code",
   "execution_count": 59,
   "metadata": {},
   "outputs": [
    {
     "name": "stdout",
     "output_type": "stream",
     "text": [
      "[array([[-0.03137537,  0.07717585, -0.06438892, ..., -0.05086152,\n",
      "         0.03485918,  0.03686256],\n",
      "       [ 0.07848955,  0.03108223,  0.11259597, ..., -0.04369728,\n",
      "        -0.03050271, -0.01657319],\n",
      "       [-0.00806799, -0.06894209, -0.0146496 , ..., -0.02636686,\n",
      "         0.00990218,  0.06716543],\n",
      "       ...,\n",
      "       [-0.02034633,  0.00270557, -0.00319286, ...,  0.07128914,\n",
      "        -0.00056136, -0.06217438],\n",
      "       [-0.02167948, -0.08711863,  0.06127411, ...,  0.01001566,\n",
      "        -0.0694625 , -0.12092503],\n",
      "       [-0.10579642,  0.11031339,  0.03469577, ...,  0.01463425,\n",
      "         0.076971  ,  0.01809248]], dtype=float32), array([-0.23094663,  0.30510738,  0.02797174, -0.18215844,  0.04719717,\n",
      "        0.7912234 , -0.03587764,  0.4027512 , -0.96311617, -0.16214946],\n",
      "      dtype=float32)]\n",
      "Loaded model from disk\n"
     ]
    }
   ],
   "source": [
    "# load json and create model\n",
    "json_file = open('02_logistic_regression.json', 'r')\n",
    "loaded_model_json = json_file.read()\n",
    "json_file.close()\n",
    "loaded_model = model_from_json(loaded_model_json)\n",
    "# load weights into new model\n",
    "loaded_model.load_weights(\"02_logistic_regression.h5\")\n",
    "print (model.get_weights())\n",
    "print(\"Loaded model from disk\")"
   ]
  },
  {
   "cell_type": "code",
   "execution_count": 60,
   "metadata": {},
   "outputs": [
    {
     "name": "stdout",
     "output_type": "stream",
     "text": [
      "10000/10000 [==============================] - 1s 69us/step\n",
      "acc: 91.77%\n"
     ]
    }
   ],
   "source": [
    "# evaluate loaded model on test data\n",
    "loaded_model.compile(loss='binary_crossentropy', optimizer='rmsprop', metrics=['accuracy'])\n",
    "score = model.evaluate(X_test, Y_Test, verbose=1)\n",
    "print(\"%s: %.2f%%\" % (loaded_model.metrics_names[1], score[1]*100))"
   ]
  },
  {
   "cell_type": "code",
   "execution_count": 3,
   "metadata": {},
   "outputs": [
    {
     "ename": "NameError",
     "evalue": "name 'model' is not defined",
     "output_type": "error",
     "traceback": [
      "\u001b[0;31m---------------------------------------------------------------------------\u001b[0m",
      "\u001b[0;31mNameError\u001b[0m                                 Traceback (most recent call last)",
      "\u001b[0;32m<ipython-input-3-263b54ea943d>\u001b[0m in \u001b[0;36m<module>\u001b[0;34m()\u001b[0m\n\u001b[1;32m      8\u001b[0m \u001b[0;31m#perform the prediction\u001b[0m\u001b[0;34m\u001b[0m\u001b[0;34m\u001b[0m\u001b[0m\n\u001b[1;32m      9\u001b[0m \u001b[0;31m#model = load_model('02_logistic_regression.h5')\u001b[0m\u001b[0;34m\u001b[0m\u001b[0;34m\u001b[0m\u001b[0m\n\u001b[0;32m---> 10\u001b[0;31m \u001b[0mout\u001b[0m \u001b[0;34m=\u001b[0m \u001b[0mmodel\u001b[0m\u001b[0;34m.\u001b[0m\u001b[0mpredict\u001b[0m\u001b[0;34m(\u001b[0m\u001b[0mx\u001b[0m\u001b[0;34m)\u001b[0m\u001b[0;34m\u001b[0m\u001b[0m\n\u001b[0m\u001b[1;32m     11\u001b[0m \u001b[0mprint\u001b[0m\u001b[0;34m(\u001b[0m\u001b[0mnp\u001b[0m\u001b[0;34m.\u001b[0m\u001b[0margmax\u001b[0m\u001b[0;34m(\u001b[0m\u001b[0mout\u001b[0m\u001b[0;34m)\u001b[0m\u001b[0;34m)\u001b[0m\u001b[0;34m\u001b[0m\u001b[0m\n",
      "\u001b[0;31mNameError\u001b[0m: name 'model' is not defined"
     ]
    }
   ],
   "source": [
    "from scipy.misc import imread\n",
    "import numpy as np\n",
    "x = imread('9.png',mode='L')\n",
    "#compute a bit-wise inversion so black becomes white and vice versa\n",
    "x = np.invert(x)\n",
    "x = x.reshape(1,784).astype('float32') / 255\n",
    "\n",
    "#perform the prediction\n",
    "#model = load_model('02_logistic_regression.h5')\n",
    "out = model.predict(x)\n",
    "print(np.argmax(out))"
   ]
  },
  {
   "cell_type": "code",
   "execution_count": null,
   "metadata": {
    "collapsed": true
   },
   "outputs": [],
   "source": []
  }
 ],
 "metadata": {
  "kernelspec": {
   "display_name": "Python 3",
   "language": "python",
   "name": "python3"
  },
  "language_info": {
   "codemirror_mode": {
    "name": "ipython",
    "version": 3
   },
   "file_extension": ".py",
   "mimetype": "text/x-python",
   "name": "python",
   "nbconvert_exporter": "python",
   "pygments_lexer": "ipython3",
   "version": "3.6.2"
  }
 },
 "nbformat": 4,
 "nbformat_minor": 1
}
