{
 "cells": [
  {
   "cell_type": "markdown",
   "metadata": {},
   "source": [
    "# Short Numpy Tutorial"
   ]
  },
  {
   "cell_type": "code",
   "execution_count": 2,
   "metadata": {},
   "outputs": [],
   "source": [
    "import numpy as np"
   ]
  },
  {
   "cell_type": "markdown",
   "metadata": {},
   "source": [
    "## What is an ndarray?\n",
    "\n",
    "The `ndarray` is the biggest contribution of numpy. An ndarray is\n",
    "\n",
    "- a regular grid of N-dimensions,\n",
    "- homogeneous by default (all the elements have the same type),\n",
    "- contiguous block of memory with types corresponding to machine types (8-bit ints, 32 bit floats, 64-bit longs, ...).\n",
    "\n",
    "## Building an array (inline)\n",
    "\n",
    "We can build an array from Python lists:"
   ]
  },
  {
   "cell_type": "code",
   "execution_count": 3,
   "metadata": {},
   "outputs": [
    {
     "name": "stdout",
     "output_type": "stream",
     "text": [
      "[[1.2 2.3 4. ]\n",
      " [1.2 3.4 5.2]\n",
      " [0.  1.  1.3]\n",
      " [0.  1.  0.2]]\n"
     ]
    }
   ],
   "source": [
    "arr = np.array([\n",
    "    [1.2, 2.3, 4.0],\n",
    "    [1.2, 3.4, 5.2],\n",
    "    [0.0, 1.0, 1.3],\n",
    "    [0.0, 1.0, 2e-1]])\n",
    "print(arr)"
   ]
  },
  {
   "cell_type": "markdown",
   "metadata": {},
   "source": [
    "### Inspecting array properties"
   ]
  },
  {
   "cell_type": "code",
   "execution_count": 4,
   "metadata": {},
   "outputs": [
    {
     "name": "stdout",
     "output_type": "stream",
     "text": [
      "float64\n",
      "2\n",
      "(4, 3)\n"
     ]
    }
   ],
   "source": [
    "print(arr.dtype)\n",
    "print(arr.ndim)  # why is two dim\n",
    "print(arr.shape)"
   ]
  },
  {
   "cell_type": "markdown",
   "metadata": {},
   "source": [
    "This array is of `float64` (at least on my computer, probably on yours too), it has 2 dimensions and its shape is 4 rows and 3 columns.\n",
    "\n",
    "When constructing an array, we can explicitly specify the type:"
   ]
  },
  {
   "cell_type": "code",
   "execution_count": 5,
   "metadata": {},
   "outputs": [],
   "source": [
    "iarr = np.array([1,2,3], np.uint8)"
   ]
  },
  {
   "cell_type": "markdown",
   "metadata": {},
   "source": [
    "Arithmetic operations on the array **respect the type and can including rounding and overflow**!"
   ]
  },
  {
   "cell_type": "code",
   "execution_count": 5,
   "metadata": {},
   "outputs": [
    {
     "name": "stdout",
     "output_type": "stream",
     "text": [
      "[[  3.     5.75  10.  ]\n",
      " [  3.     8.5   13.  ]\n",
      " [  0.     2.5    3.25]\n",
      " [  0.     2.5    0.5 ]]\n",
      "[3 6 9]\n"
     ]
    }
   ],
   "source": [
    "arr *= 2.5\n",
    "iarr *= 3\n",
    "print(arr)\n",
    "print(iarr)"
   ]
  },
  {
   "cell_type": "markdown",
   "metadata": {},
   "source": [
    "### Boolean operations\n",
    "\n",
    "An important subset of operations with numpy arrays concerns using logical operators to build boolean arrays. For example:\n"
   ]
  },
  {
   "cell_type": "code",
   "execution_count": 6,
   "metadata": {},
   "outputs": [
    {
     "name": "stdout",
     "output_type": "stream",
     "text": [
      "[[ True  True  True]\n",
      " [ True  True  True]\n",
      " [False  True  True]\n",
      " [False  True False]]\n"
     ]
    }
   ],
   "source": [
    "is_greater_one = (arr >= 1.)\n",
    "print(is_greater_one)"
   ]
  },
  {
   "cell_type": "markdown",
   "metadata": {},
   "source": [
    "### Slicing & Dicing\n",
    "\n",
    "We can use Python's `[]` operator to slice and dice the array:"
   ]
  },
  {
   "cell_type": "code",
   "execution_count": 7,
   "metadata": {},
   "outputs": [
    {
     "name": "stdout",
     "output_type": "stream",
     "text": [
      "3.0\n",
      "[  3.    8.5  13. ]\n",
      "[ 10.    13.     3.25   0.5 ]\n"
     ]
    }
   ],
   "source": [
    "print(arr[0,0]) # First row, first column\n",
    "print(arr[1]) # The whole second row\n",
    "print(arr[:,2]) # The third column"
   ]
  },
  {
   "cell_type": "markdown",
   "metadata": {},
   "source": [
    "### Slices are views\n",
    "\n",
    "Slices share memory with the original array!"
   ]
  },
  {
   "cell_type": "code",
   "execution_count": 8,
   "metadata": {},
   "outputs": [
    {
     "name": "stdout",
     "output_type": "stream",
     "text": [
      "[[  3.     5.75  10.  ]\n",
      " [  3.     8.5   13.  ]\n",
      " [  0.     2.5    3.25]\n",
      " [  0.     2.5    0.5 ]]\n",
      "Before: 3.0\n",
      "After: [ 103.     8.5   13. ]\n"
     ]
    }
   ],
   "source": [
    "print (arr)\n",
    "print(\"Before: {}\".format(arr[1,0]))\n",
    "view = arr[1]\n",
    "view[0] += 100\n",
    "print(\"After: {}\".format(arr[1]))"
   ]
  },
  {
   "cell_type": "markdown",
   "metadata": {},
   "source": [
    "#### Visual illustration of slicing"
   ]
  },
  {
   "cell_type": "code",
   "execution_count": 9,
   "metadata": {},
   "outputs": [
    {
     "data": {
      "text/plain": [
       "array([[   0.        ,    1.33333333,    1.48148148,    1.53846154,\n",
       "           1.56862745,    1.58730159],\n",
       "       [  66.66666667,   14.66666667,    8.88888889,    6.66666667,\n",
       "           5.49019608,    4.76190476],\n",
       "       [ 133.33333333,   28.        ,   16.2962963 ,   11.79487179,\n",
       "           9.41176471,    7.93650794],\n",
       "       [ 200.        ,   41.33333333,   23.7037037 ,   16.92307692,\n",
       "          13.33333333,   11.11111111],\n",
       "       [ 266.66666667,   54.66666667,   31.11111111,   22.05128205,\n",
       "          17.25490196,   14.28571429],\n",
       "       [ 333.33333333,   68.        ,   38.51851852,   27.17948718,\n",
       "          21.17647059,   17.46031746]])"
      ]
     },
     "execution_count": 9,
     "metadata": {},
     "output_type": "execute_result"
    }
   ],
   "source": [
    "a = np.array([\n",
    "       [ 0,  1,  2,  3,  4,  5],\n",
    "       [10, 11, 12, 13, 14, 15],\n",
    "       [20, 21, 22, 23, 24, 25],\n",
    "       [30, 31, 32, 33, 34, 35],\n",
    "       [40, 41, 42, 43, 44, 45],\n",
    "       [50, 51, 52, 53, 54, 55]])\n",
    "\n",
    "sum = a.sum(axis = 1)\n",
    "sum\n",
    "percentage = 100 * a / sum\n",
    "percentage\n",
    "#a[0,3:5]\n",
    "#a[4:,4:]\n",
    "#a[2::2,2::2]"
   ]
  },
  {
   "cell_type": "markdown",
   "metadata": {},
   "source": [
    "## Basic functions on arrays"
   ]
  },
  {
   "cell_type": "code",
   "execution_count": 10,
   "metadata": {},
   "outputs": [
    {
     "name": "stdout",
     "output_type": "stream",
     "text": [
      "[[   3.      5.75   10.  ]\n",
      " [ 103.      8.5    13.  ]\n",
      " [   0.      2.5     3.25]\n",
      " [   0.      2.5     0.5 ]]\n"
     ]
    },
    {
     "data": {
      "text/plain": [
       "12.666666666666666"
      ]
     },
     "execution_count": 10,
     "metadata": {},
     "output_type": "execute_result"
    }
   ],
   "source": [
    "print(arr)\n",
    "arr.mean()"
   ]
  },
  {
   "cell_type": "markdown",
   "metadata": {},
   "source": [
    "Also available: `max`, `min`, `sum`, `ptp` (point-to-point, i.e., difference between maximum and minimum values).\n",
    "\n",
    "These functions can also work *axis-wise*:"
   ]
  },
  {
   "cell_type": "code",
   "execution_count": 11,
   "metadata": {},
   "outputs": [
    {
     "data": {
      "text/plain": [
       "array([ 26.5   ,   4.8125,   6.6875])"
      ]
     },
     "execution_count": 11,
     "metadata": {},
     "output_type": "execute_result"
    }
   ],
   "source": [
    "arr.mean(axis=0)"
   ]
  },
  {
   "cell_type": "markdown",
   "metadata": {},
   "source": [
    "An important trick is to combine logical operations with A"
   ]
  },
  {
   "cell_type": "code",
   "execution_count": 12,
   "metadata": {},
   "outputs": [
    {
     "data": {
      "text/plain": [
       "array([  6.25      ,  41.5       ,   1.91666667,   1.        ])"
      ]
     },
     "execution_count": 12,
     "metadata": {},
     "output_type": "execute_result"
    }
   ],
   "source": [
    "arr.mean(axis=1)"
   ]
  },
  {
   "cell_type": "code",
   "execution_count": 13,
   "metadata": {},
   "outputs": [
    {
     "name": "stdout",
     "output_type": "stream",
     "text": [
      "0.75\n"
     ]
    }
   ],
   "source": [
    "is_greater_one = (arr > 1)\n",
    "print(is_greater_one.mean())"
   ]
  },
  {
   "cell_type": "markdown",
   "metadata": {},
   "source": [
    "### Broadcasting\n",
    "\n",
    "<img src=\"./media/02/Broadcasting.jpg\" alt=\"Broadcasting example\" title=\"Broadcasting example\" style=\"width: 500px;\"/>\n",
    "\n",
    "You can often perform operations"
   ]
  },
  {
   "cell_type": "code",
   "execution_count": 14,
   "metadata": {},
   "outputs": [
    {
     "name": "stdout",
     "output_type": "stream",
     "text": [
      "[[   3.      5.75   10.  ]\n",
      " [ 103.      8.5    13.  ]\n",
      " [   0.      2.5     3.25]\n",
      " [   0.      2.5     0.5 ]]\n",
      "Now adding [1,1,0] to *every row*\n",
      "\n",
      "[[   4.      6.75   10.  ]\n",
      " [ 104.      9.5    13.  ]\n",
      " [   1.      3.5     3.25]\n",
      " [   1.      3.5     0.5 ]]\n"
     ]
    }
   ],
   "source": [
    "print(arr)\n",
    "print(\"Now adding [1,1,0] to *every row*\")\n",
    "print()\n",
    "arr += np.array([1,1,0])\n",
    "print(arr)"
   ]
  },
  {
   "cell_type": "markdown",
   "metadata": {},
   "source": [
    "The exact [rules of how broadcasting work](http://docs.scipy.org/doc/numpy/user/basics.broadcasting.html) are a bit complex to explain, but it generally works as expected. For example, if your data is a set of measurements for a sample, and your columns are the different types of measurements, then, you can easily remove the mean like this:"
   ]
  },
  {
   "cell_type": "code",
   "execution_count": 15,
   "metadata": {
    "scrolled": true
   },
   "outputs": [
    {
     "name": "stdout",
     "output_type": "stream",
     "text": [
      "[ 27.5      5.8125   6.6875]\n",
      "[ 0.  0.  0.]\n"
     ]
    }
   ],
   "source": [
    "print(arr.mean(0))\n",
    "arr -= arr.mean(0)\n",
    "print(arr.mean(0))"
   ]
  },
  {
   "cell_type": "code",
   "execution_count": null,
   "metadata": {
    "collapsed": true
   },
   "outputs": [],
   "source": []
  }
 ],
 "metadata": {
  "kernelspec": {
   "display_name": "Python 3",
   "language": "python",
   "name": "python3"
  },
  "language_info": {
   "codemirror_mode": {
    "name": "ipython",
    "version": 3
   },
   "file_extension": ".py",
   "mimetype": "text/x-python",
   "name": "python",
   "nbconvert_exporter": "python",
   "pygments_lexer": "ipython3",
   "version": "3.6.5"
  }
 },
 "nbformat": 4,
 "nbformat_minor": 1
}
