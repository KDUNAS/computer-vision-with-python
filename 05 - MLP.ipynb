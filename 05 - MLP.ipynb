{
 "cells": [
  {
   "cell_type": "markdown",
   "metadata": {},
   "source": [
    "# Multi Layer Perceptron"
   ]
  },
  {
   "cell_type": "code",
   "execution_count": 1,
   "metadata": {},
   "outputs": [
    {
     "name": "stderr",
     "output_type": "stream",
     "text": [
      "Using TensorFlow backend.\n"
     ]
    }
   ],
   "source": [
    "from keras.models import Sequential\n",
    "from keras.layers import Dense\n",
    "from keras.optimizers import SGD\n",
    "from keras.datasets import mnist\n",
    "from keras.utils import np_utils"
   ]
  },
  {
   "cell_type": "code",
   "execution_count": 3,
   "metadata": {
    "collapsed": true
   },
   "outputs": [],
   "source": [
    "batch_size = 128\n",
    "nb_classes = 10\n",
    "nb_epoch = 20"
   ]
  },
  {
   "cell_type": "code",
   "execution_count": 4,
   "metadata": {
    "collapsed": true
   },
   "outputs": [],
   "source": [
    "# Load MNIST dataset\n",
    "(X_train, y_train), (X_test, y_test) = mnist.load_data()\n",
    "X_train = X_train.reshape(60000, 784)\n",
    "X_test = X_test.reshape(10000, 784)\n",
    "X_train = X_train.astype('float32')\n",
    "X_test = X_test.astype('float32')\n",
    "X_train /= 255\n",
    "X_test /= 255\n",
    "Y_Train = np_utils.to_categorical(y_train, nb_classes)\n",
    "Y_Test = np_utils.to_categorical(y_test, nb_classes)"
   ]
  },
  {
   "cell_type": "code",
   "execution_count": 5,
   "metadata": {
    "collapsed": true
   },
   "outputs": [],
   "source": [
    "# Multilayer Perceptron model\n",
    "model = Sequential()\n",
    "model.add(Dense(625, input_dim=784, kernel_initializer='normal', activation='sigmoid'))\n",
    "model.add(Dense(625, input_dim=625, kernel_initializer='normal', activation='sigmoid'))\n",
    "model.add(Dense(10, input_dim=625, kernel_initializer='normal', activation='softmax'))\n",
    "model.compile(optimizer=SGD(lr=0.05), loss='categorical_crossentropy', metrics=['accuracy'])"
   ]
  },
  {
   "cell_type": "code",
   "execution_count": 6,
   "metadata": {},
   "outputs": [
    {
     "name": "stdout",
     "output_type": "stream",
     "text": [
      "_________________________________________________________________\n",
      "Layer (type)                 Output Shape              Param #   \n",
      "=================================================================\n",
      "dense_1 (Dense)              (None, 625)               490625    \n",
      "_________________________________________________________________\n",
      "dense_2 (Dense)              (None, 625)               391250    \n",
      "_________________________________________________________________\n",
      "dense_3 (Dense)              (None, 10)                6260      \n",
      "=================================================================\n",
      "Total params: 888,135\n",
      "Trainable params: 888,135\n",
      "Non-trainable params: 0\n",
      "_________________________________________________________________\n"
     ]
    }
   ],
   "source": [
    "model.summary()"
   ]
  },
  {
   "cell_type": "code",
   "execution_count": 7,
   "metadata": {},
   "outputs": [
    {
     "name": "stderr",
     "output_type": "stream",
     "text": [
      "/anaconda2/envs/py36/lib/python3.6/site-packages/keras/models.py:942: UserWarning: The `nb_epoch` argument in `fit` has been renamed `epochs`.\n",
      "  warnings.warn('The `nb_epoch` argument in `fit` '\n"
     ]
    },
    {
     "name": "stdout",
     "output_type": "stream",
     "text": [
      "Train on 60000 samples, validate on 10000 samples\n",
      "Epoch 1/20\n",
      "60000/60000 [==============================] - 14s 240us/step - loss: 1.9266 - acc: 0.4273 - val_loss: 1.3333 - val_acc: 0.7293\n",
      "Epoch 2/20\n",
      "60000/60000 [==============================] - 14s 233us/step - loss: 0.9253 - acc: 0.7843 - val_loss: 0.6560 - val_acc: 0.8389\n",
      "Epoch 3/20\n",
      "60000/60000 [==============================] - 14s 234us/step - loss: 0.5788 - acc: 0.8479 - val_loss: 0.4972 - val_acc: 0.8691\n",
      "Epoch 4/20\n",
      "60000/60000 [==============================] - 14s 233us/step - loss: 0.4678 - acc: 0.8717 - val_loss: 0.4196 - val_acc: 0.8841\n",
      "Epoch 5/20\n",
      "60000/60000 [==============================] - 14s 235us/step - loss: 0.4151 - acc: 0.8843 - val_loss: 0.3826 - val_acc: 0.8937\n",
      "Epoch 6/20\n",
      "60000/60000 [==============================] - 14s 234us/step - loss: 0.3839 - acc: 0.8906 - val_loss: 0.3596 - val_acc: 0.8971\n",
      "Epoch 7/20\n",
      "60000/60000 [==============================] - 14s 235us/step - loss: 0.3641 - acc: 0.8964 - val_loss: 0.3411 - val_acc: 0.9014\n",
      "Epoch 8/20\n",
      "60000/60000 [==============================] - 15s 242us/step - loss: 0.3493 - acc: 0.8992 - val_loss: 0.3275 - val_acc: 0.9032\n",
      "Epoch 9/20\n",
      "60000/60000 [==============================] - 14s 234us/step - loss: 0.3386 - acc: 0.9023 - val_loss: 0.3194 - val_acc: 0.9083\n",
      "Epoch 10/20\n",
      "60000/60000 [==============================] - 14s 235us/step - loss: 0.3286 - acc: 0.9054 - val_loss: 0.3141 - val_acc: 0.9085\n",
      "Epoch 11/20\n",
      "60000/60000 [==============================] - 15s 242us/step - loss: 0.3213 - acc: 0.9067 - val_loss: 0.3060 - val_acc: 0.9114\n",
      "Epoch 12/20\n",
      "60000/60000 [==============================] - 14s 237us/step - loss: 0.3147 - acc: 0.9092 - val_loss: 0.3066 - val_acc: 0.9112\n",
      "Epoch 13/20\n",
      "60000/60000 [==============================] - 16s 272us/step - loss: 0.3091 - acc: 0.9106 - val_loss: 0.2950 - val_acc: 0.9144\n",
      "Epoch 14/20\n",
      "60000/60000 [==============================] - 18s 294us/step - loss: 0.3036 - acc: 0.9127 - val_loss: 0.2925 - val_acc: 0.9154\n",
      "Epoch 15/20\n",
      "60000/60000 [==============================] - 18s 295us/step - loss: 0.2992 - acc: 0.9139 - val_loss: 0.2864 - val_acc: 0.9165\n",
      "Epoch 16/20\n",
      "60000/60000 [==============================] - 15s 250us/step - loss: 0.2955 - acc: 0.9143 - val_loss: 0.2889 - val_acc: 0.9185\n",
      "Epoch 17/20\n",
      "60000/60000 [==============================] - 15s 247us/step - loss: 0.2916 - acc: 0.9156 - val_loss: 0.2826 - val_acc: 0.9192\n",
      "Epoch 18/20\n",
      "60000/60000 [==============================] - 15s 244us/step - loss: 0.2883 - acc: 0.9169 - val_loss: 0.2784 - val_acc: 0.9205\n",
      "Epoch 19/20\n",
      "60000/60000 [==============================] - 14s 241us/step - loss: 0.2844 - acc: 0.9173 - val_loss: 0.2781 - val_acc: 0.9212\n",
      "Epoch 20/20\n",
      "60000/60000 [==============================] - 15s 242us/step - loss: 0.2816 - acc: 0.9183 - val_loss: 0.2726 - val_acc: 0.9203\n"
     ]
    }
   ],
   "source": [
    "# Train\n",
    "history = model.fit(X_train, Y_Train, \n",
    "                    nb_epoch=nb_epoch,validation_data=(X_test, Y_Test), \n",
    "                    batch_size=batch_size, verbose=1)"
   ]
  },
  {
   "cell_type": "code",
   "execution_count": 8,
   "metadata": {},
   "outputs": [
    {
     "name": "stdout",
     "output_type": "stream",
     "text": [
      "10000/10000 [==============================] - 2s 164us/step\n",
      "Summary: Loss over the test dataset: 0.27, Accuracy: 0.92\n"
     ]
    }
   ],
   "source": [
    "# Evaluate\n",
    "evaluation = model.evaluate(X_test, Y_Test, verbose=1)\n",
    "print('Summary: Loss over the test dataset: %.2f, Accuracy: %.2f' % (evaluation[0], evaluation[1]))"
   ]
  },
  {
   "cell_type": "code",
   "execution_count": null,
   "metadata": {
    "collapsed": true
   },
   "outputs": [],
   "source": []
  }
 ],
 "metadata": {
  "kernelspec": {
   "display_name": "Python 3",
   "language": "python",
   "name": "python3"
  },
  "language_info": {
   "codemirror_mode": {
    "name": "ipython",
    "version": 3
   },
   "file_extension": ".py",
   "mimetype": "text/x-python",
   "name": "python",
   "nbconvert_exporter": "python",
   "pygments_lexer": "ipython3",
   "version": "3.6.2"
  }
 },
 "nbformat": 4,
 "nbformat_minor": 1
}
